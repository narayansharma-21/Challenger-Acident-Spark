{
 "cells": [
  {
   "cell_type": "code",
   "execution_count": 7,
   "metadata": {},
   "outputs": [
    {
     "name": "stderr",
     "output_type": "stream",
     "text": [
      "[Stage 5:============================================>              (6 + 2) / 8]\r"
     ]
    },
    {
     "name": "stdout",
     "output_type": "stream",
     "text": [
      "The estimated temperature at Cape Canaveral on January 28, 1986, using inverse distance weighting, is 34.46 degrees F.\n"
     ]
    },
    {
     "name": "stderr",
     "output_type": "stream",
     "text": [
      "                                                                                \r"
     ]
    }
   ],
   "source": [
    "from pyspark.sql.functions import radians, sin, cos, sqrt, atan2, col, lit\n",
    "from pyspark.sql.types import DoubleType\n",
    "from pyspark.sql.functions import sum as sql_sum\n",
    "from pyspark.sql import SparkSession\n",
    "import matplotlib.pyplot as plt\n",
    "\n",
    "\n",
    "# Create SparkSession\n",
    "spark = SparkSession.builder.appName(\"ChallengerTemperatureAnalysis\").getOrCreate()\n",
    "\n",
    "# Define haversine distance UDF\n",
    "def haversine(lat1, lon1, lat2, lon2):\n",
    "    R = 6371.0  # Earth radius in kilometers\n",
    "    dlon = radians(lon2) - radians(lon1)\n",
    "    dlat = radians(lat2) - radians(lat1)\n",
    "    a = sin(dlat / 2)**2 + cos(radians(lat1)) * cos(radians(lat2)) * sin(dlon / 2)**2\n",
    "    c = 2 * atan2(sqrt(a), sqrt(1 - a))\n",
    "    distance = R * c\n",
    "    return distance\n",
    "\n",
    "# Define inverse distance weighting UDF\n",
    "def idw(distances, temperatures):\n",
    "    weights = 1 / distances\n",
    "    weighted_temps = temperatures * weights\n",
    "    return sql_sum(weighted_temps) / sql_sum(weights)\n",
    "\n",
    "\n",
    "# Read station and temperature data\n",
    "stations = spark.read.csv(\"../data/stations.csv\", header=True, inferSchema=True)\n",
    "temperatures = spark.read.csv(\"../data/1986.csv\", header=False, inferSchema=True) \\\n",
    "                     .toDF(\"station_id\", \"wban_id\", \"month\", \"day\", \"temperature\")\n",
    "\n",
    "# Filter and clean up the data\n",
    "stations = stations.filter((stations[\"latitude\"].isNotNull()) & (stations[\"longitude\"].isNotNull()))\n",
    "temperatures = temperatures.filter((temperatures[\"temperature\"].isNotNull()) & (temperatures[\"month\"] == 1) & (temperatures[\"day\"] == 28))\n",
    "\n",
    "# Join stations and temperatures data\n",
    "joined = temperatures.join(stations, [\"station_id\", \"wban_id\"])\n",
    "\n",
    "# Compute distances from each station to Cape Canaveral (28.3922° N, 80.6077° W)\n",
    "lat_cc = lit(28.3922)\n",
    "lon_cc = lit(-80.6077)\n",
    "joined = joined.withColumn(\"distance\", haversine(lat_cc, lon_cc, joined[\"latitude\"], joined[\"longitude\"]).cast(DoubleType()))\n",
    "\n",
    "# Filter for stations within 100 km of Cape Canaveral\n",
    "joined = joined.filter(joined[\"distance\"] <= 100)\n",
    "\n",
    "# Compute IDW temperature at Cape Canaveral on January 28, 1986\n",
    "idw_temp = joined.groupby().agg(idw(col(\"distance\"), col(\"temperature\")).alias(\"IDW_Temperature\")).collect()[0][\"IDW_Temperature\"]\n",
    "\n",
    "# Print result\n",
    "print(\"The estimated temperature at Cape Canaveral on January 28, 1986, using inverse distance weighting, is {:.2f} degrees F.\".format(idw_temp))\n"
   ]
  },
  {
   "cell_type": "code",
   "execution_count": 18,
   "metadata": {},
   "outputs": [
    {
     "name": "stderr",
     "output_type": "stream",
     "text": [
      "                                                                                \r"
     ]
    },
    {
     "data": {
      "image/png": "[encoded data removed]",
      "text/plain": [
       "<Figure size 640x480 with 1 Axes>"
      ]
     },
     "metadata": {},
     "output_type": "display_data"
    }
   ],
   "source": [
    "# Aggregate temperature data by date\n",
    "daily_temps = joined.filter(joined[\"temperature\"].isNotNull()) \\\n",
    "                     .groupby(\"day\") \\\n",
    "                     .agg(sql_sum(col(\"temperature\")).alias(\"total_temperature\"), sql_sum(col(\"distance\")).alias(\"total_distance\")) \\\n",
    "                     .withColumn(\"average_temperature\", col(\"total_temperature\") / col(\"total_distance\"))\n",
    "\n",
    "import matplotlib.pyplot as plt\n",
    "\n",
    "days = daily_temps.select(\"day\").collect()\n",
    "temps = daily_temps.select(\"average_temperature\").collect()\n",
    "\n",
    "plt.plot([day[0] for day in days], [temp[0] for temp in temps])\n",
    "plt.title(\"Average Temperature at Cape Canaveral in January 1986\")\n",
    "plt.xlabel(\"Day\")\n",
    "plt.ylabel(\"Temperature (F)\")\n",
    "\n",
    "# Set x-axis limits to show the entire month of January\n",
    "plt.xlim(1, 31)\n",
    "\n",
    "plt.show()\n",
    "\n"
   ]
  },
  {
   "cell_type": "code",
   "execution_count": 16,
   "metadata": {},
   "outputs": [
    {
     "name": "stderr",
     "output_type": "stream",
     "text": [
      "[Stage 43:==================================================>       (7 + 1) / 8]\r"
     ]
    },
    {
     "name": "stdout",
     "output_type": "stream",
     "text": [
      "1\n"
     ]
    },
    {
     "name": "stderr",
     "output_type": "stream",
     "text": [
      "                                                                                \r"
     ]
    }
   ],
   "source": [
    "print(daily_temps.count())\n"
   ]
  },
  {
   "cell_type": "code",
   "execution_count": null,
   "metadata": {},
   "outputs": [],
   "source": []
  }
 ],
 "metadata": {
  "kernelspec": {
   "display_name": "base",
   "language": "python",
   "name": "python3"
  },
  "language_info": {
   "codemirror_mode": {
    "name": "ipython",
    "version": 3
   },
   "file_extension": ".py",
   "mimetype": "text/x-python",
   "name": "python",
   "nbconvert_exporter": "python",
   "pygments_lexer": "ipython3",
   "version": "3.8.13"
  },
  "orig_nbformat": 4
 },
 "nbformat": 4,
 "nbformat_minor": 2
}
