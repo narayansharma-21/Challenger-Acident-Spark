{
 "cells": [
  {
   "cell_type": "markdown",
   "metadata": {},
   "source": [
    "# Cleaning, filtering, helper functions"
   ]
  },
  {
   "cell_type": "code",
   "execution_count": 16,
   "metadata": {},
   "outputs": [
    {
     "name": "stdout",
     "output_type": "stream",
     "text": [
      "23/04/13 23:49:28 WARN SparkSession: Using an existing Spark session; only runtime SQL configurations will take effect.\n",
      "The estimated temperature at Cape Canaveral on January 28, 1986, using inverse distance weighting, is 34.46 degrees F.\n"
     ]
    }
   ],
   "source": [
    "from pyspark.sql.functions import radians, sin, cos, sqrt, atan2, col, lit\n",
    "from pyspark.sql.types import DoubleType\n",
    "from pyspark.sql.functions import sum as sql_sum\n",
    "from pyspark.sql import SparkSession\n",
    "import matplotlib.pyplot as plt\n",
    "from pyspark.sql.functions import date_format\n",
    "\n",
    "\n",
    "\n",
    "# Create SparkSession\n",
    "spark: SparkSession = SparkSession.builder.appName(\"ChallengerTemperatureAnalysis\").getOrCreate()\n",
    "\n",
    "# Define haversine distance UDF\n",
    "def haversine(lat1, lon1, lat2, lon2):\n",
    "    R = 6371.0  # Earth radius in kilometers\n",
    "    dlon = radians(lon2) - radians(lon1)\n",
    "    dlat = radians(lat2) - radians(lat1)\n",
    "    a = sin(dlat / 2)**2 + cos(radians(lat1)) * cos(radians(lat2)) * sin(dlon / 2)**2\n",
    "    c = 2 * atan2(sqrt(a), sqrt(1 - a))\n",
    "    distance = R * c\n",
    "    return distance\n",
    "\n",
    "# Define inverse distance weighting UDF\n",
    "def idw(distances, temperatures):\n",
    "    weights = 1 / distances\n",
    "    weighted_temps = temperatures * weights\n",
    "    return sql_sum(weighted_temps) / sql_sum(weights)\n",
    "\n",
    "\n",
    "# Read station and temperature data\n",
    "stations = spark.read.csv(\"../data/stations.csv\", header=True, inferSchema=True)\n",
    "temperatures = spark.read.csv(\"../data/1986.csv\", header=False, inferSchema=True) \\\n",
    "                     .toDF(\"station_id\", \"wban_id\", \"month\", \"day\", \"temperature\")\n",
    "\n",
    "# Filter and clean up the data\n",
    "stations = stations.filter((stations[\"latitude\"].isNotNull()) & (stations[\"longitude\"].isNotNull()))\n",
    "temperatures = temperatures.filter((temperatures[\"temperature\"].isNotNull()) & (temperatures[\"month\"] == 1) & (temperatures[\"day\"] == 28))\n",
    "\n",
    "# Join stations and temperatures data\n",
    "joined = temperatures.join(stations, [\"station_id\", \"wban_id\"])\n",
    "\n",
    "# Compute distances from each station to Cape Canaveral (28.3922° N, 80.6077° W)\n",
    "lat_cc = lit(28.3922)\n",
    "lon_cc = lit(-80.6077)\n",
    "joined = joined.withColumn(\"distance\", haversine(lat_cc, lon_cc, joined[\"latitude\"], joined[\"longitude\"]).cast(DoubleType()))\n",
    "\n",
    "# Filter for stations within 100 km of Cape Canaveral\n",
    "joined = joined.filter(joined[\"distance\"] <= 100)\n",
    "\n",
    "# Compute IDW temperature at Cape Canaveral on January 28, 1986\n",
    "idw_temp = joined.groupby().agg(idw(col(\"distance\"), col(\"temperature\")).alias(\"IDW_Temperature\")).collect()[0][\"IDW_Temperature\"]\n",
    "\n",
    "# Print result\n",
    "print(\"The estimated temperature at Cape Canaveral on January 28, 1986, using inverse distance weighting, is {:.2f} degrees F.\".format(idw_temp))\n"
   ]
  },
  {
   "cell_type": "markdown",
   "metadata": {},
   "source": [
    "# Question #1: stations within 100 km"
   ]
  },
  {
   "cell_type": "code",
   "execution_count": 28,
   "metadata": {},
   "outputs": [
    {
     "name": "stdout",
     "output_type": "stream",
     "text": [
      "+----------+-------+--------+---------+---------------+\n",
      "|station_id|wban_id|latitude|longitude|is_within_100km|\n",
      "+----------+-------+--------+---------+---------------+\n",
      "|    720904|    299|  29.067|  -81.283|           true|\n",
      "|    720904|   null|  29.067|  -81.284|           true|\n",
      "|    722011|  92813|   28.29|  -81.437|           true|\n",
      "|    722011|   null|   28.29|  -81.437|           true|\n",
      "|    722040|  12838|  28.101|  -80.644|           true|\n",
      "|    722040|   null|    28.1|   -80.65|           true|\n",
      "|    722045|  12843|  27.653|  -80.243|           true|\n",
      "|    722045|   null|   27.65|  -80.417|           true|\n",
      "|    722046|  12898|  28.517|    -80.8|           true|\n",
      "|    722046|   null|  28.517|    -80.8|           true|\n",
      "|    722050|  12815|  28.434|  -81.325|           true|\n",
      "|    722051|  12841|  28.545|  -81.333|           true|\n",
      "|    722053|  12841|  28.545|  -81.333|           true|\n",
      "|    722053|   null|   28.55|  -81.333|           true|\n",
      "|    722056|  12834|  29.183|  -81.048|           true|\n",
      "|    722056|   null|  29.167|   -81.05|           true|\n",
      "|    722057|  12854|   28.78|  -81.244|           true|\n",
      "|    722057|   null|  28.767|  -81.233|           true|\n",
      "|    722058|   null|   29.07|   -80.92|           true|\n",
      "|    722361|  92808|  29.054|  -80.948|           true|\n",
      "+----------+-------+--------+---------+---------------+\n",
      "only showing top 20 rows\n",
      "\n"
     ]
    }
   ],
   "source": [
    "from pyspark.sql.functions import col\n",
    "from pyspark.sql.types import BooleanType\n",
    "from pyspark.sql import SparkSession\n",
    "from pyspark.sql.functions import udf\n",
    "\n",
    "spark: SparkSession = SparkSession.builder.appName(\"WeatherStationDistance\").getOrCreate()\n",
    "\n",
    "# Cape Canaveral GPS coordinates\n",
    "cape_canaveral_lat: float = 28.3922\n",
    "cape_canaveral_lon: float = -80.6077\n",
    "\n",
    "\n",
    "# UDF function for distance checking\n",
    "@udf(returnType=BooleanType())\n",
    "def is_within_100km(lat, lon) -> bool:\n",
    "    try:\n",
    "        return haversine(cape_canaveral_lat, cape_canaveral_lon, lat, lon) <= 100\n",
    "    except:\n",
    "        return False\n",
    "\n",
    "# add new column to the stations DF for indicating if a weather station is < 100 km from Cape Canaveral\n",
    "stations = stations.withColumn(\"is_within_100km\", is_within_100km(col(\"latitude\"), col(\"longitude\")))\n",
    "\n",
    "# filter to show only close stations\n",
    "weather_stations_within_100km_df = stations.filter(col(\"is_within_100km\"))\n",
    "\n",
    "# display top 20 results\n",
    "weather_stations_within_100km_df.show(20)"
   ]
  },
  {
   "cell_type": "code",
   "execution_count": 2,
   "metadata": {},
   "outputs": [
    {
     "ename": "AnalysisException",
     "evalue": "Column 'date' does not exist. Did you mean one of the following? [day, month, distance, latitude, wban_id, longitude, station_id, temperature];\n'Aggregate [date_format('date, yyyy-MM-dd, Some(America/New_York))], [date_format('date, yyyy-MM-dd, Some(America/New_York)) AS date#111, sum(cast(temperature#56 as double)) AS total_temperature#121, sum(distance#71) AS total_distance#123]\n+- Filter isnotnull(temperature#56)\n   +- Filter (distance#71 <= cast(100 as double))\n      +- Project [station_id#52, wban_id#53, month#54, day#55, temperature#56, latitude#19, longitude#20, cast(((ATAN2(SQRT((POWER(SIN(((RADIANS(latitude#19) - RADIANS(28.3922)) / cast(2 as double))), cast(2 as double)) + ((COS(RADIANS(28.3922)) * COS(RADIANS(latitude#19))) * POWER(SIN(((RADIANS(longitude#20) - RADIANS(-80.6077)) / cast(2 as double))), cast(2 as double))))), SQRT((cast(1 as double) - (POWER(SIN(((RADIANS(latitude#19) - RADIANS(28.3922)) / cast(2 as double))), cast(2 as double)) + ((COS(RADIANS(28.3922)) * COS(RADIANS(latitude#19))) * POWER(SIN(((RADIANS(longitude#20) - RADIANS(-80.6077)) / cast(2 as double))), cast(2 as double))))))) * cast(2 as double)) * 6371.0) as double) AS distance#71]\n         +- Project [station_id#52, wban_id#53, month#54, day#55, temperature#56, latitude#19, longitude#20]\n            +- Join Inner, ((cast(station_id#52 as int) = station_id#17) AND (cast(wban_id#53 as int) = wban_id#18))\n               :- Filter ((isnotnull(temperature#56) AND (cast(month#54 as int) = 1)) AND (cast(day#55 as int) = 28))\n               :  +- Project [_c0#42 AS station_id#52, _c1#43 AS wban_id#53, _c2#44 AS month#54, _c3#45 AS day#55, _c4#46 AS temperature#56]\n               :     +- Relation [_c0#42,_c1#43,_c2#44,_c3#45,_c4#46] csv\n               +- Filter (isnotnull(latitude#19) AND isnotnull(longitude#20))\n                  +- Relation [station_id#17,wban_id#18,latitude#19,longitude#20] csv\n",
     "output_type": "error",
     "traceback": [
      "\u001b[0;31m---------------------------------------------------------------------------\u001b[0m",
      "\u001b[0;31mAnalysisException\u001b[0m                         Traceback (most recent call last)",
      "Cell \u001b[0;32mIn[2], line 3\u001b[0m\n\u001b[1;32m      1\u001b[0m \u001b[38;5;66;03m# Aggregate temperature data by date\u001b[39;00m\n\u001b[0;32m----> 3\u001b[0m daily_temps \u001b[38;5;241m=\u001b[39m \u001b[43mjoined\u001b[49m\u001b[38;5;241;43m.\u001b[39;49m\u001b[43mfilter\u001b[49m\u001b[43m(\u001b[49m\u001b[43mjoined\u001b[49m\u001b[43m[\u001b[49m\u001b[38;5;124;43m\"\u001b[39;49m\u001b[38;5;124;43mtemperature\u001b[39;49m\u001b[38;5;124;43m\"\u001b[39;49m\u001b[43m]\u001b[49m\u001b[38;5;241;43m.\u001b[39;49m\u001b[43misNotNull\u001b[49m\u001b[43m(\u001b[49m\u001b[43m)\u001b[49m\u001b[43m)\u001b[49m\u001b[43m \u001b[49m\u001b[43m\\\u001b[49m\n\u001b[1;32m      4\u001b[0m \u001b[43m                   \u001b[49m\u001b[38;5;241;43m.\u001b[39;49m\u001b[43mgroupBy\u001b[49m\u001b[43m(\u001b[49m\u001b[43mdate_format\u001b[49m\u001b[43m(\u001b[49m\u001b[38;5;124;43m\"\u001b[39;49m\u001b[38;5;124;43mdate\u001b[39;49m\u001b[38;5;124;43m\"\u001b[39;49m\u001b[43m,\u001b[49m\u001b[43m \u001b[49m\u001b[38;5;124;43m\"\u001b[39;49m\u001b[38;5;124;43myyyy-MM-dd\u001b[39;49m\u001b[38;5;124;43m\"\u001b[39;49m\u001b[43m)\u001b[49m\u001b[38;5;241;43m.\u001b[39;49m\u001b[43malias\u001b[49m\u001b[43m(\u001b[49m\u001b[38;5;124;43m\"\u001b[39;49m\u001b[38;5;124;43mdate\u001b[39;49m\u001b[38;5;124;43m\"\u001b[39;49m\u001b[43m)\u001b[49m\u001b[43m)\u001b[49m\u001b[43m \u001b[49m\u001b[43m\\\u001b[49m\n\u001b[1;32m      5\u001b[0m \u001b[43m                   \u001b[49m\u001b[38;5;241;43m.\u001b[39;49m\u001b[43magg\u001b[49m\u001b[43m(\u001b[49m\u001b[43msql_sum\u001b[49m\u001b[43m(\u001b[49m\u001b[43mcol\u001b[49m\u001b[43m(\u001b[49m\u001b[38;5;124;43m\"\u001b[39;49m\u001b[38;5;124;43mtemperature\u001b[39;49m\u001b[38;5;124;43m\"\u001b[39;49m\u001b[43m)\u001b[49m\u001b[43m)\u001b[49m\u001b[38;5;241;43m.\u001b[39;49m\u001b[43malias\u001b[49m\u001b[43m(\u001b[49m\u001b[38;5;124;43m\"\u001b[39;49m\u001b[38;5;124;43mtotal_temperature\u001b[39;49m\u001b[38;5;124;43m\"\u001b[39;49m\u001b[43m)\u001b[49m\u001b[43m,\u001b[49m\u001b[43m \u001b[49m\u001b[43msql_sum\u001b[49m\u001b[43m(\u001b[49m\u001b[43mcol\u001b[49m\u001b[43m(\u001b[49m\u001b[38;5;124;43m\"\u001b[39;49m\u001b[38;5;124;43mdistance\u001b[39;49m\u001b[38;5;124;43m\"\u001b[39;49m\u001b[43m)\u001b[49m\u001b[43m)\u001b[49m\u001b[38;5;241;43m.\u001b[39;49m\u001b[43malias\u001b[49m\u001b[43m(\u001b[49m\u001b[38;5;124;43m\"\u001b[39;49m\u001b[38;5;124;43mtotal_distance\u001b[39;49m\u001b[38;5;124;43m\"\u001b[39;49m\u001b[43m)\u001b[49m\u001b[43m)\u001b[49m \\\n\u001b[1;32m      6\u001b[0m                    \u001b[38;5;241m.\u001b[39mwithColumn(\u001b[38;5;124m\"\u001b[39m\u001b[38;5;124maverage_temperature\u001b[39m\u001b[38;5;124m\"\u001b[39m, col(\u001b[38;5;124m\"\u001b[39m\u001b[38;5;124mtotal_temperature\u001b[39m\u001b[38;5;124m\"\u001b[39m) \u001b[38;5;241m/\u001b[39m col(\u001b[38;5;124m\"\u001b[39m\u001b[38;5;124mtotal_distance\u001b[39m\u001b[38;5;124m\"\u001b[39m)) \\\n\u001b[1;32m      7\u001b[0m                    \u001b[38;5;241m.\u001b[39morderBy(\u001b[38;5;124m\"\u001b[39m\u001b[38;5;124mdate\u001b[39m\u001b[38;5;124m\"\u001b[39m)\n\u001b[1;32m      9\u001b[0m \u001b[38;5;66;03m# Extract the temperatures and days from the daily_temps DataFrame\u001b[39;00m\n\u001b[1;32m     10\u001b[0m temps \u001b[38;5;241m=\u001b[39m daily_temps\u001b[38;5;241m.\u001b[39mselect(\u001b[38;5;124m\"\u001b[39m\u001b[38;5;124maverage_temperature\u001b[39m\u001b[38;5;124m\"\u001b[39m)\u001b[38;5;241m.\u001b[39mcollect()\n",
      "File \u001b[0;32m~/opt/anaconda3/envs/ds/lib/python3.9/site-packages/pyspark/sql/group.py:137\u001b[0m, in \u001b[0;36mGroupedData.agg\u001b[0;34m(self, *exprs)\u001b[0m\n\u001b[1;32m    135\u001b[0m     \u001b[39massert\u001b[39;00m \u001b[39mall\u001b[39m(\u001b[39misinstance\u001b[39m(c, Column) \u001b[39mfor\u001b[39;00m c \u001b[39min\u001b[39;00m exprs), \u001b[39m\"\u001b[39m\u001b[39mall exprs should be Column\u001b[39m\u001b[39m\"\u001b[39m\n\u001b[1;32m    136\u001b[0m     exprs \u001b[39m=\u001b[39m cast(Tuple[Column, \u001b[39m.\u001b[39m\u001b[39m.\u001b[39m\u001b[39m.\u001b[39m], exprs)\n\u001b[0;32m--> 137\u001b[0m     jdf \u001b[39m=\u001b[39m \u001b[39mself\u001b[39;49m\u001b[39m.\u001b[39;49m_jgd\u001b[39m.\u001b[39;49magg(exprs[\u001b[39m0\u001b[39;49m]\u001b[39m.\u001b[39;49m_jc, _to_seq(\u001b[39mself\u001b[39;49m\u001b[39m.\u001b[39;49msession\u001b[39m.\u001b[39;49m_sc, [c\u001b[39m.\u001b[39;49m_jc \u001b[39mfor\u001b[39;49;00m c \u001b[39min\u001b[39;49;00m exprs[\u001b[39m1\u001b[39;49m:]]))\n\u001b[1;32m    138\u001b[0m \u001b[39mreturn\u001b[39;00m DataFrame(jdf, \u001b[39mself\u001b[39m\u001b[39m.\u001b[39msession)\n",
      "File \u001b[0;32m~/opt/anaconda3/envs/ds/lib/python3.9/site-packages/py4j/java_gateway.py:1321\u001b[0m, in \u001b[0;36mJavaMember.__call__\u001b[0;34m(self, *args)\u001b[0m\n\u001b[1;32m   1315\u001b[0m command \u001b[39m=\u001b[39m proto\u001b[39m.\u001b[39mCALL_COMMAND_NAME \u001b[39m+\u001b[39m\\\n\u001b[1;32m   1316\u001b[0m     \u001b[39mself\u001b[39m\u001b[39m.\u001b[39mcommand_header \u001b[39m+\u001b[39m\\\n\u001b[1;32m   1317\u001b[0m     args_command \u001b[39m+\u001b[39m\\\n\u001b[1;32m   1318\u001b[0m     proto\u001b[39m.\u001b[39mEND_COMMAND_PART\n\u001b[1;32m   1320\u001b[0m answer \u001b[39m=\u001b[39m \u001b[39mself\u001b[39m\u001b[39m.\u001b[39mgateway_client\u001b[39m.\u001b[39msend_command(command)\n\u001b[0;32m-> 1321\u001b[0m return_value \u001b[39m=\u001b[39m get_return_value(\n\u001b[1;32m   1322\u001b[0m     answer, \u001b[39mself\u001b[39;49m\u001b[39m.\u001b[39;49mgateway_client, \u001b[39mself\u001b[39;49m\u001b[39m.\u001b[39;49mtarget_id, \u001b[39mself\u001b[39;49m\u001b[39m.\u001b[39;49mname)\n\u001b[1;32m   1324\u001b[0m \u001b[39mfor\u001b[39;00m temp_arg \u001b[39min\u001b[39;00m temp_args:\n\u001b[1;32m   1325\u001b[0m     temp_arg\u001b[39m.\u001b[39m_detach()\n",
      "File \u001b[0;32m~/opt/anaconda3/envs/ds/lib/python3.9/site-packages/pyspark/sql/utils.py:196\u001b[0m, in \u001b[0;36mcapture_sql_exception.<locals>.deco\u001b[0;34m(*a, **kw)\u001b[0m\n\u001b[1;32m    192\u001b[0m converted \u001b[39m=\u001b[39m convert_exception(e\u001b[39m.\u001b[39mjava_exception)\n\u001b[1;32m    193\u001b[0m \u001b[39mif\u001b[39;00m \u001b[39mnot\u001b[39;00m \u001b[39misinstance\u001b[39m(converted, UnknownException):\n\u001b[1;32m    194\u001b[0m     \u001b[39m# Hide where the exception came from that shows a non-Pythonic\u001b[39;00m\n\u001b[1;32m    195\u001b[0m     \u001b[39m# JVM exception message.\u001b[39;00m\n\u001b[0;32m--> 196\u001b[0m     \u001b[39mraise\u001b[39;00m converted \u001b[39mfrom\u001b[39;00m \u001b[39mNone\u001b[39m\n\u001b[1;32m    197\u001b[0m \u001b[39melse\u001b[39;00m:\n\u001b[1;32m    198\u001b[0m     \u001b[39mraise\u001b[39;00m\n",
      "\u001b[0;31mAnalysisException\u001b[0m: Column 'date' does not exist. Did you mean one of the following? [day, month, distance, latitude, wban_id, longitude, station_id, temperature];\n'Aggregate [date_format('date, yyyy-MM-dd, Some(America/New_York))], [date_format('date, yyyy-MM-dd, Some(America/New_York)) AS date#111, sum(cast(temperature#56 as double)) AS total_temperature#121, sum(distance#71) AS total_distance#123]\n+- Filter isnotnull(temperature#56)\n   +- Filter (distance#71 <= cast(100 as double))\n      +- Project [station_id#52, wban_id#53, month#54, day#55, temperature#56, latitude#19, longitude#20, cast(((ATAN2(SQRT((POWER(SIN(((RADIANS(latitude#19) - RADIANS(28.3922)) / cast(2 as double))), cast(2 as double)) + ((COS(RADIANS(28.3922)) * COS(RADIANS(latitude#19))) * POWER(SIN(((RADIANS(longitude#20) - RADIANS(-80.6077)) / cast(2 as double))), cast(2 as double))))), SQRT((cast(1 as double) - (POWER(SIN(((RADIANS(latitude#19) - RADIANS(28.3922)) / cast(2 as double))), cast(2 as double)) + ((COS(RADIANS(28.3922)) * COS(RADIANS(latitude#19))) * POWER(SIN(((RADIANS(longitude#20) - RADIANS(-80.6077)) / cast(2 as double))), cast(2 as double))))))) * cast(2 as double)) * 6371.0) as double) AS distance#71]\n         +- Project [station_id#52, wban_id#53, month#54, day#55, temperature#56, latitude#19, longitude#20]\n            +- Join Inner, ((cast(station_id#52 as int) = station_id#17) AND (cast(wban_id#53 as int) = wban_id#18))\n               :- Filter ((isnotnull(temperature#56) AND (cast(month#54 as int) = 1)) AND (cast(day#55 as int) = 28))\n               :  +- Project [_c0#42 AS station_id#52, _c1#43 AS wban_id#53, _c2#44 AS month#54, _c3#45 AS day#55, _c4#46 AS temperature#56]\n               :     +- Relation [_c0#42,_c1#43,_c2#44,_c3#45,_c4#46] csv\n               +- Filter (isnotnull(latitude#19) AND isnotnull(longitude#20))\n                  +- Relation [station_id#17,wban_id#18,latitude#19,longitude#20] csv\n"
     ]
    }
   ],
   "source": [
    "# Aggregate temperature data by date\n",
    "\n",
    "daily_temps = joined.filter(joined[\"temperature\"].isNotNull()) \\\n",
    "                   .groupBy(date_format(\"date\", \"yyyy-MM-dd\").alias(\"date\")) \\\n",
    "                   .agg(sql_sum(col(\"temperature\")).alias(\"total_temperature\"), sql_sum(col(\"distance\")).alias(\"total_distance\")) \\\n",
    "                   .withColumn(\"average_temperature\", col(\"total_temperature\") / col(\"total_distance\")) \\\n",
    "                   .orderBy(\"date\")\n",
    "\n",
    "# Extract the temperatures and days from the daily_temps DataFrame\n",
    "temps = daily_temps.select(\"average_temperature\").collect()\n",
    "days = daily_temps.select(date_format(\"day\", \"d\").alias(\"day\")).collect()\n",
    "\n",
    "# Plot the temperatures for each day in January 1986\n",
    "plt.plot(days, temps)\n",
    "plt.title(\"Temperature in January 1986 at Cape Canaveral\")\n",
    "plt.xlabel(\"Day of the Month\")\n",
    "plt.ylabel(\"Temperature (F)\")\n",
    "plt.show()\n",
    "\n",
    "\n"
   ]
  },
  {
   "cell_type": "code",
   "execution_count": 22,
   "metadata": {},
   "outputs": [
    {
     "name": "stderr",
     "output_type": "stream",
     "text": [
      "[Stage 73:===========================================>              (6 + 2) / 8]\r"
     ]
    },
    {
     "name": "stdout",
     "output_type": "stream",
     "text": [
      "1\n"
     ]
    },
    {
     "name": "stderr",
     "output_type": "stream",
     "text": [
      "                                                                                \r"
     ]
    }
   ],
   "source": [
    "print(daily_temps.count())\n"
   ]
  },
  {
   "cell_type": "code",
   "execution_count": null,
   "metadata": {},
   "outputs": [],
   "source": []
  }
 ],
 "metadata": {
  "kernelspec": {
   "display_name": "Python 3.9.13 ('ds')",
   "language": "python",
   "name": "python3"
  },
  "language_info": {
   "codemirror_mode": {
    "name": "ipython",
    "version": 3
   },
   "file_extension": ".py",
   "mimetype": "text/x-python",
   "name": "python",
   "nbconvert_exporter": "python",
   "pygments_lexer": "ipython3",
   "version": "3.9.13"
  },
  "orig_nbformat": 4,
  "vscode": {
   "interpreter": {
    "hash": "aa8f07565f14ad3af7441b359de82a9336d0e71b02baac78f24423198eabf332"
   }
  }
 },
 "nbformat": 4,
 "nbformat_minor": 2
}
