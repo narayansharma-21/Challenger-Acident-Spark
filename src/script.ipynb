{
 "cells": [
  {
   "cell_type": "code",
   "execution_count": 24,
   "metadata": {},
   "outputs": [
    {
     "name": "stderr",
     "output_type": "stream",
     "text": [
      "[Stage 84:=======>                                                  (1 + 7) / 8]\r"
     ]
    },
    {
     "name": "stdout",
     "output_type": "stream",
     "text": [
      "The estimated temperature at Cape Canaveral on January 28, 1986, using inverse distance weighting, is 34.46 degrees F.\n"
     ]
    },
    {
     "name": "stderr",
     "output_type": "stream",
     "text": [
      "                                                                                \r"
     ]
    }
   ],
   "source": [
    "from pyspark.sql.functions import radians, sin, cos, sqrt, atan2, col, lit\n",
    "from pyspark.sql.types import DoubleType\n",
    "from pyspark.sql.functions import sum as sql_sum\n",
    "from pyspark.sql import SparkSession\n",
    "import matplotlib.pyplot as plt\n",
    "from pyspark.sql.functions import date_format\n",
    "\n",
    "\n",
    "\n",
    "# Create SparkSession\n",
    "spark = SparkSession.builder.appName(\"ChallengerTemperatureAnalysis\").getOrCreate()\n",
    "\n",
    "# Define haversine distance UDF\n",
    "def haversine(lat1, lon1, lat2, lon2):\n",
    "    R = 6371.0  # Earth radius in kilometers\n",
    "    dlon = radians(lon2) - radians(lon1)\n",
    "    dlat = radians(lat2) - radians(lat1)\n",
    "    a = sin(dlat / 2)**2 + cos(radians(lat1)) * cos(radians(lat2)) * sin(dlon / 2)**2\n",
    "    c = 2 * atan2(sqrt(a), sqrt(1 - a))\n",
    "    distance = R * c\n",
    "    return distance\n",
    "\n",
    "# Define inverse distance weighting UDF\n",
    "def idw(distances, temperatures):\n",
    "    weights = 1 / distances\n",
    "    weighted_temps = temperatures * weights\n",
    "    return sql_sum(weighted_temps) / sql_sum(weights)\n",
    "\n",
    "\n",
    "# Read station and temperature data\n",
    "stations = spark.read.csv(\"../data/stations.csv\", header=True, inferSchema=True)\n",
    "temperatures = spark.read.csv(\"../data/1986.csv\", header=False, inferSchema=True) \\\n",
    "                     .toDF(\"station_id\", \"wban_id\", \"month\", \"day\", \"temperature\")\n",
    "\n",
    "# Filter and clean up the data\n",
    "stations = stations.filter((stations[\"latitude\"].isNotNull()) & (stations[\"longitude\"].isNotNull()))\n",
    "temperatures = temperatures.filter((temperatures[\"temperature\"].isNotNull()) & (temperatures[\"month\"] == 1) & (temperatures[\"day\"] == 28))\n",
    "\n",
    "# Join stations and temperatures data\n",
    "joined = temperatures.join(stations, [\"station_id\", \"wban_id\"])\n",
    "\n",
    "# Compute distances from each station to Cape Canaveral (28.3922° N, 80.6077° W)\n",
    "lat_cc = lit(28.3922)\n",
    "lon_cc = lit(-80.6077)\n",
    "joined = joined.withColumn(\"distance\", haversine(lat_cc, lon_cc, joined[\"latitude\"], joined[\"longitude\"]).cast(DoubleType()))\n",
    "\n",
    "# Filter for stations within 100 km of Cape Canaveral\n",
    "joined = joined.filter(joined[\"distance\"] <= 100)\n",
    "\n",
    "# Compute IDW temperature at Cape Canaveral on January 28, 1986\n",
    "idw_temp = joined.groupby().agg(idw(col(\"distance\"), col(\"temperature\")).alias(\"IDW_Temperature\")).collect()[0][\"IDW_Temperature\"]\n",
    "\n",
    "# Print result\n",
    "print(\"The estimated temperature at Cape Canaveral on January 28, 1986, using inverse distance weighting, is {:.2f} degrees F.\".format(idw_temp))\n"
   ]
  },
  {
   "cell_type": "code",
   "execution_count": 27,
   "metadata": {},
   "outputs": [
    {
     "ename": "AnalysisException",
     "evalue": "Column 'date' does not exist. Did you mean one of the following? [day, month, distance, latitude, wban_id, longitude, station_id, temperature];\n'Aggregate [date_format('date, yyyy-MM-dd, Some(America/New_York))], [date_format('date, yyyy-MM-dd, Some(America/New_York)) AS date#684, sum(cast(temperature#589 as double)) AS total_temperature#694, sum(distance#604) AS total_distance#696]\n+- Filter isnotnull(temperature#589)\n   +- Filter (distance#604 <= cast(100 as double))\n      +- Project [station_id#585, wban_id#586, month#587, day#588, temperature#589, latitude#552, longitude#553, cast(((ATAN2(SQRT((POWER(SIN(((RADIANS(latitude#552) - RADIANS(28.3922)) / cast(2 as double))), cast(2 as double)) + ((COS(RADIANS(28.3922)) * COS(RADIANS(latitude#552))) * POWER(SIN(((RADIANS(longitude#553) - RADIANS(-80.6077)) / cast(2 as double))), cast(2 as double))))), SQRT((cast(1 as double) - (POWER(SIN(((RADIANS(latitude#552) - RADIANS(28.3922)) / cast(2 as double))), cast(2 as double)) + ((COS(RADIANS(28.3922)) * COS(RADIANS(latitude#552))) * POWER(SIN(((RADIANS(longitude#553) - RADIANS(-80.6077)) / cast(2 as double))), cast(2 as double))))))) * cast(2 as double)) * 6371.0) as double) AS distance#604]\n         +- Project [station_id#585, wban_id#586, month#587, day#588, temperature#589, latitude#552, longitude#553]\n            +- Join Inner, ((cast(station_id#585 as int) = station_id#550) AND (cast(wban_id#586 as int) = wban_id#551))\n               :- Filter ((isnotnull(temperature#589) AND (cast(month#587 as int) = 1)) AND (cast(day#588 as int) = 28))\n               :  +- Project [_c0#575 AS station_id#585, _c1#576 AS wban_id#586, _c2#577 AS month#587, _c3#578 AS day#588, _c4#579 AS temperature#589]\n               :     +- Relation [_c0#575,_c1#576,_c2#577,_c3#578,_c4#579] csv\n               +- Filter (isnotnull(latitude#552) AND isnotnull(longitude#553))\n                  +- Relation [station_id#550,wban_id#551,latitude#552,longitude#553] csv\n",
     "output_type": "error",
     "traceback": [
      "\u001b[0;31m---------------------------------------------------------------------------\u001b[0m",
      "\u001b[0;31mAnalysisException\u001b[0m                         Traceback (most recent call last)",
      "\u001b[1;32m/Users/kingnutmegs/Documents/GitHub/Challenger-Accident-Spark/src/script.ipynb Cell 2\u001b[0m in \u001b[0;36m3\n\u001b[1;32m      <a href='vscode-notebook-cell:/Users/kingnutmegs/Documents/GitHub/Challenger-Accident-Spark/src/script.ipynb#W1sZmlsZQ%3D%3D?line=0'>1</a>\u001b[0m \u001b[39m# Aggregate temperature data by date\u001b[39;00m\n\u001b[0;32m----> <a href='vscode-notebook-cell:/Users/kingnutmegs/Documents/GitHub/Challenger-Accident-Spark/src/script.ipynb#W1sZmlsZQ%3D%3D?line=2'>3</a>\u001b[0m daily_temps \u001b[39m=\u001b[39m joined\u001b[39m.\u001b[39;49mfilter(joined[\u001b[39m\"\u001b[39;49m\u001b[39mtemperature\u001b[39;49m\u001b[39m\"\u001b[39;49m]\u001b[39m.\u001b[39;49misNotNull()) \\\n\u001b[1;32m      <a href='vscode-notebook-cell:/Users/kingnutmegs/Documents/GitHub/Challenger-Accident-Spark/src/script.ipynb#W1sZmlsZQ%3D%3D?line=3'>4</a>\u001b[0m                    \u001b[39m.\u001b[39;49mgroupBy(date_format(\u001b[39m\"\u001b[39;49m\u001b[39mdate\u001b[39;49m\u001b[39m\"\u001b[39;49m, \u001b[39m\"\u001b[39;49m\u001b[39myyyy-MM-dd\u001b[39;49m\u001b[39m\"\u001b[39;49m)\u001b[39m.\u001b[39;49malias(\u001b[39m\"\u001b[39;49m\u001b[39mdate\u001b[39;49m\u001b[39m\"\u001b[39;49m)) \\\n\u001b[1;32m      <a href='vscode-notebook-cell:/Users/kingnutmegs/Documents/GitHub/Challenger-Accident-Spark/src/script.ipynb#W1sZmlsZQ%3D%3D?line=4'>5</a>\u001b[0m                    \u001b[39m.\u001b[39;49magg(sql_sum(col(\u001b[39m\"\u001b[39;49m\u001b[39mtemperature\u001b[39;49m\u001b[39m\"\u001b[39;49m))\u001b[39m.\u001b[39;49malias(\u001b[39m\"\u001b[39;49m\u001b[39mtotal_temperature\u001b[39;49m\u001b[39m\"\u001b[39;49m), sql_sum(col(\u001b[39m\"\u001b[39;49m\u001b[39mdistance\u001b[39;49m\u001b[39m\"\u001b[39;49m))\u001b[39m.\u001b[39;49malias(\u001b[39m\"\u001b[39;49m\u001b[39mtotal_distance\u001b[39;49m\u001b[39m\"\u001b[39;49m)) \\\n\u001b[1;32m      <a href='vscode-notebook-cell:/Users/kingnutmegs/Documents/GitHub/Challenger-Accident-Spark/src/script.ipynb#W1sZmlsZQ%3D%3D?line=5'>6</a>\u001b[0m                    \u001b[39m.\u001b[39mwithColumn(\u001b[39m\"\u001b[39m\u001b[39maverage_temperature\u001b[39m\u001b[39m\"\u001b[39m, col(\u001b[39m\"\u001b[39m\u001b[39mtotal_temperature\u001b[39m\u001b[39m\"\u001b[39m) \u001b[39m/\u001b[39m col(\u001b[39m\"\u001b[39m\u001b[39mtotal_distance\u001b[39m\u001b[39m\"\u001b[39m)) \\\n\u001b[1;32m      <a href='vscode-notebook-cell:/Users/kingnutmegs/Documents/GitHub/Challenger-Accident-Spark/src/script.ipynb#W1sZmlsZQ%3D%3D?line=6'>7</a>\u001b[0m                    \u001b[39m.\u001b[39morderBy(\u001b[39m\"\u001b[39m\u001b[39mdate\u001b[39m\u001b[39m\"\u001b[39m)\n\u001b[1;32m      <a href='vscode-notebook-cell:/Users/kingnutmegs/Documents/GitHub/Challenger-Accident-Spark/src/script.ipynb#W1sZmlsZQ%3D%3D?line=8'>9</a>\u001b[0m \u001b[39m# Extract the temperatures and days from the daily_temps DataFrame\u001b[39;00m\n\u001b[1;32m     <a href='vscode-notebook-cell:/Users/kingnutmegs/Documents/GitHub/Challenger-Accident-Spark/src/script.ipynb#W1sZmlsZQ%3D%3D?line=9'>10</a>\u001b[0m temps \u001b[39m=\u001b[39m daily_temps\u001b[39m.\u001b[39mselect(\u001b[39m\"\u001b[39m\u001b[39maverage_temperature\u001b[39m\u001b[39m\"\u001b[39m)\u001b[39m.\u001b[39mcollect()\n",
      "File \u001b[0;32m~/opt/miniconda3/lib/python3.8/site-packages/pyspark/sql/group.py:137\u001b[0m, in \u001b[0;36mGroupedData.agg\u001b[0;34m(self, *exprs)\u001b[0m\n\u001b[1;32m    135\u001b[0m     \u001b[39massert\u001b[39;00m \u001b[39mall\u001b[39m(\u001b[39misinstance\u001b[39m(c, Column) \u001b[39mfor\u001b[39;00m c \u001b[39min\u001b[39;00m exprs), \u001b[39m\"\u001b[39m\u001b[39mall exprs should be Column\u001b[39m\u001b[39m\"\u001b[39m\n\u001b[1;32m    136\u001b[0m     exprs \u001b[39m=\u001b[39m cast(Tuple[Column, \u001b[39m.\u001b[39m\u001b[39m.\u001b[39m\u001b[39m.\u001b[39m], exprs)\n\u001b[0;32m--> 137\u001b[0m     jdf \u001b[39m=\u001b[39m \u001b[39mself\u001b[39;49m\u001b[39m.\u001b[39;49m_jgd\u001b[39m.\u001b[39;49magg(exprs[\u001b[39m0\u001b[39;49m]\u001b[39m.\u001b[39;49m_jc, _to_seq(\u001b[39mself\u001b[39;49m\u001b[39m.\u001b[39;49msession\u001b[39m.\u001b[39;49m_sc, [c\u001b[39m.\u001b[39;49m_jc \u001b[39mfor\u001b[39;49;00m c \u001b[39min\u001b[39;49;00m exprs[\u001b[39m1\u001b[39;49m:]]))\n\u001b[1;32m    138\u001b[0m \u001b[39mreturn\u001b[39;00m DataFrame(jdf, \u001b[39mself\u001b[39m\u001b[39m.\u001b[39msession)\n",
      "File \u001b[0;32m~/opt/miniconda3/lib/python3.8/site-packages/py4j/java_gateway.py:1321\u001b[0m, in \u001b[0;36mJavaMember.__call__\u001b[0;34m(self, *args)\u001b[0m\n\u001b[1;32m   1315\u001b[0m command \u001b[39m=\u001b[39m proto\u001b[39m.\u001b[39mCALL_COMMAND_NAME \u001b[39m+\u001b[39m\\\n\u001b[1;32m   1316\u001b[0m     \u001b[39mself\u001b[39m\u001b[39m.\u001b[39mcommand_header \u001b[39m+\u001b[39m\\\n\u001b[1;32m   1317\u001b[0m     args_command \u001b[39m+\u001b[39m\\\n\u001b[1;32m   1318\u001b[0m     proto\u001b[39m.\u001b[39mEND_COMMAND_PART\n\u001b[1;32m   1320\u001b[0m answer \u001b[39m=\u001b[39m \u001b[39mself\u001b[39m\u001b[39m.\u001b[39mgateway_client\u001b[39m.\u001b[39msend_command(command)\n\u001b[0;32m-> 1321\u001b[0m return_value \u001b[39m=\u001b[39m get_return_value(\n\u001b[1;32m   1322\u001b[0m     answer, \u001b[39mself\u001b[39;49m\u001b[39m.\u001b[39;49mgateway_client, \u001b[39mself\u001b[39;49m\u001b[39m.\u001b[39;49mtarget_id, \u001b[39mself\u001b[39;49m\u001b[39m.\u001b[39;49mname)\n\u001b[1;32m   1324\u001b[0m \u001b[39mfor\u001b[39;00m temp_arg \u001b[39min\u001b[39;00m temp_args:\n\u001b[1;32m   1325\u001b[0m     temp_arg\u001b[39m.\u001b[39m_detach()\n",
      "File \u001b[0;32m~/opt/miniconda3/lib/python3.8/site-packages/pyspark/sql/utils.py:196\u001b[0m, in \u001b[0;36mcapture_sql_exception.<locals>.deco\u001b[0;34m(*a, **kw)\u001b[0m\n\u001b[1;32m    192\u001b[0m converted \u001b[39m=\u001b[39m convert_exception(e\u001b[39m.\u001b[39mjava_exception)\n\u001b[1;32m    193\u001b[0m \u001b[39mif\u001b[39;00m \u001b[39mnot\u001b[39;00m \u001b[39misinstance\u001b[39m(converted, UnknownException):\n\u001b[1;32m    194\u001b[0m     \u001b[39m# Hide where the exception came from that shows a non-Pythonic\u001b[39;00m\n\u001b[1;32m    195\u001b[0m     \u001b[39m# JVM exception message.\u001b[39;00m\n\u001b[0;32m--> 196\u001b[0m     \u001b[39mraise\u001b[39;00m converted \u001b[39mfrom\u001b[39;00m \u001b[39mNone\u001b[39m\n\u001b[1;32m    197\u001b[0m \u001b[39melse\u001b[39;00m:\n\u001b[1;32m    198\u001b[0m     \u001b[39mraise\u001b[39;00m\n",
      "\u001b[0;31mAnalysisException\u001b[0m: Column 'date' does not exist. Did you mean one of the following? [day, month, distance, latitude, wban_id, longitude, station_id, temperature];\n'Aggregate [date_format('date, yyyy-MM-dd, Some(America/New_York))], [date_format('date, yyyy-MM-dd, Some(America/New_York)) AS date#684, sum(cast(temperature#589 as double)) AS total_temperature#694, sum(distance#604) AS total_distance#696]\n+- Filter isnotnull(temperature#589)\n   +- Filter (distance#604 <= cast(100 as double))\n      +- Project [station_id#585, wban_id#586, month#587, day#588, temperature#589, latitude#552, longitude#553, cast(((ATAN2(SQRT((POWER(SIN(((RADIANS(latitude#552) - RADIANS(28.3922)) / cast(2 as double))), cast(2 as double)) + ((COS(RADIANS(28.3922)) * COS(RADIANS(latitude#552))) * POWER(SIN(((RADIANS(longitude#553) - RADIANS(-80.6077)) / cast(2 as double))), cast(2 as double))))), SQRT((cast(1 as double) - (POWER(SIN(((RADIANS(latitude#552) - RADIANS(28.3922)) / cast(2 as double))), cast(2 as double)) + ((COS(RADIANS(28.3922)) * COS(RADIANS(latitude#552))) * POWER(SIN(((RADIANS(longitude#553) - RADIANS(-80.6077)) / cast(2 as double))), cast(2 as double))))))) * cast(2 as double)) * 6371.0) as double) AS distance#604]\n         +- Project [station_id#585, wban_id#586, month#587, day#588, temperature#589, latitude#552, longitude#553]\n            +- Join Inner, ((cast(station_id#585 as int) = station_id#550) AND (cast(wban_id#586 as int) = wban_id#551))\n               :- Filter ((isnotnull(temperature#589) AND (cast(month#587 as int) = 1)) AND (cast(day#588 as int) = 28))\n               :  +- Project [_c0#575 AS station_id#585, _c1#576 AS wban_id#586, _c2#577 AS month#587, _c3#578 AS day#588, _c4#579 AS temperature#589]\n               :     +- Relation [_c0#575,_c1#576,_c2#577,_c3#578,_c4#579] csv\n               +- Filter (isnotnull(latitude#552) AND isnotnull(longitude#553))\n                  +- Relation [station_id#550,wban_id#551,latitude#552,longitude#553] csv\n"
     ]
    }
   ],
   "source": [
    "# Aggregate temperature data by date\n",
    "\n",
    "daily_temps = joined.filter(joined[\"temperature\"].isNotNull()) \\\n",
    "                   .groupBy(date_format(\"date\", \"yyyy-MM-dd\").alias(\"date\")) \\\n",
    "                   .agg(sql_sum(col(\"temperature\")).alias(\"total_temperature\"), sql_sum(col(\"distance\")).alias(\"total_distance\")) \\\n",
    "                   .withColumn(\"average_temperature\", col(\"total_temperature\") / col(\"total_distance\")) \\\n",
    "                   .orderBy(\"date\")\n",
    "\n",
    "# Extract the temperatures and days from the daily_temps DataFrame\n",
    "temps = daily_temps.select(\"average_temperature\").collect()\n",
    "days = daily_temps.select(date_format(\"day\", \"d\").alias(\"day\")).collect()\n",
    "\n",
    "# Plot the temperatures for each day in January 1986\n",
    "plt.plot(days, temps)\n",
    "plt.title(\"Temperature in January 1986 at Cape Canaveral\")\n",
    "plt.xlabel(\"Day of the Month\")\n",
    "plt.ylabel(\"Temperature (F)\")\n",
    "plt.show()\n",
    "\n",
    "\n"
   ]
  },
  {
   "cell_type": "code",
   "execution_count": 22,
   "metadata": {},
   "outputs": [
    {
     "name": "stderr",
     "output_type": "stream",
     "text": [
      "[Stage 73:===========================================>              (6 + 2) / 8]\r"
     ]
    },
    {
     "name": "stdout",
     "output_type": "stream",
     "text": [
      "1\n"
     ]
    },
    {
     "name": "stderr",
     "output_type": "stream",
     "text": [
      "                                                                                \r"
     ]
    }
   ],
   "source": [
    "print(daily_temps.count())\n"
   ]
  },
  {
   "cell_type": "code",
   "execution_count": null,
   "metadata": {},
   "outputs": [],
   "source": []
  }
 ],
 "metadata": {
  "kernelspec": {
   "display_name": "base",
   "language": "python",
   "name": "python3"
  },
  "language_info": {
   "codemirror_mode": {
    "name": "ipython",
    "version": 3
   },
   "file_extension": ".py",
   "mimetype": "text/x-python",
   "name": "python",
   "nbconvert_exporter": "python",
   "pygments_lexer": "ipython3",
   "version": "3.8.13"
  },
  "orig_nbformat": 4
 },
 "nbformat": 4,
 "nbformat_minor": 2
}
