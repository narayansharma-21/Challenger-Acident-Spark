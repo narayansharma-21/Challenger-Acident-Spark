{
 "cells": [
  {
   "cell_type": "markdown",
   "metadata": {},
   "source": [
    "# Cleaning, filtering, helper functions"
   ]
  },
  {
   "cell_type": "code",
   "execution_count": 4,
   "metadata": {},
   "outputs": [
    {
     "name": "stdout",
     "output_type": "stream",
     "text": [
      "All stations within 100 km of Cape Canaveral\n",
      "+----------+-------+--------+---------+-----------------+\n",
      "|station_id|wban_id|latitude|longitude|         distance|\n",
      "+----------+-------+--------+---------+-----------------+\n",
      "|    720904|    299|  29.067|  -81.283|99.82869362421721|\n",
      "|    720904|   null|  29.067|  -81.284|99.89303332812807|\n",
      "|    722011|  92813|   28.29|  -81.437|81.95247639646107|\n",
      "|    722011|   null|   28.29|  -81.437|81.95247639646107|\n",
      "|    722040|  12838|  28.101|  -80.644|32.57460775618103|\n",
      "|    722040|   null|    28.1|   -80.65|32.75429010493698|\n",
      "|    722045|  12843|  27.653|  -80.243|89.65245500958036|\n",
      "|    722045|   null|   27.65|  -80.417| 84.6251239021527|\n",
      "|    722046|  12898|  28.517|    -80.8|23.36665592452053|\n",
      "|    722046|   null|  28.517|    -80.8|23.36665592452053|\n",
      "|    722050|  12815|  28.434|  -81.325|70.30590142260303|\n",
      "|    722051|  12841|  28.545|  -81.333|72.90473375184325|\n",
      "|    722053|  12841|  28.545|  -81.333|72.90473375184325|\n",
      "|    722053|   null|   28.55|  -81.333|73.03467496332384|\n",
      "|    722056|  12834|  29.183|  -81.048|97.84308281668112|\n",
      "|    722056|   null|  29.167|   -81.05|96.33586366684742|\n",
      "|    722057|  12854|   28.78|  -81.244|75.62645082596696|\n",
      "|    722057|   null|  28.767|  -81.233|73.92525564404123|\n",
      "|    722058|   null|   29.07|   -80.92|81.28688869720159|\n",
      "|    722361|  92808|  29.054|  -80.948|80.72444804718191|\n",
      "+----------+-------+--------+---------+-----------------+\n",
      "only showing top 20 rows\n",
      "\n",
      "The estimated temperature at Cape Canaveral on January 28, 1986, using inverse distance weighting, is 34.46 degrees F.\n"
     ]
    }
   ],
   "source": [
    "from pyspark.sql.functions import radians, sin, cos, sqrt, atan2, col, lit\n",
    "from pyspark.sql.types import DoubleType\n",
    "from pyspark.sql.functions import sum as sql_sum\n",
    "from pyspark.sql import SparkSession\n",
    "import matplotlib.pyplot as plt\n",
    "from pyspark.sql.functions import date_format\n",
    "\n",
    "\n",
    "# Create SparkSession\n",
    "spark: SparkSession = SparkSession.builder.appName(\"ChallengerTemperatureAnalysis\").getOrCreate()\n",
    "\n",
    "# Define haversine distance UDF\n",
    "def haversine(lat1, lon1, lat2, lon2):\n",
    "    R = 6371.0  # Earth radius in kilometers\n",
    "    dlon = radians(lon2) - radians(lon1)\n",
    "    dlat = radians(lat2) - radians(lat1)\n",
    "    a = sin(dlat / 2)**2 + cos(radians(lat1)) * cos(radians(lat2)) * sin(dlon / 2)**2\n",
    "    c = 2 * atan2(sqrt(a), sqrt(1 - a))\n",
    "    distance = R * c\n",
    "    return distance\n",
    "\n",
    "# Define inverse distance weighting UDF\n",
    "def idw(distances, temperatures):\n",
    "    weights = 1 / distances\n",
    "    weighted_temps = temperatures * weights\n",
    "    return sql_sum(weighted_temps) / sql_sum(weights)\n",
    "\n",
    "\n",
    "# Read station and temperature data\n",
    "stations = spark.read.csv(\"../data/stations.csv\", header=True, inferSchema=True)\n",
    "temperatures = spark.read.csv(\"../data/1986.csv\", header=False, inferSchema=True) \\\n",
    "                     .toDF(\"station_id\", \"wban_id\", \"month\", \"day\", \"temperature\")\n",
    "\n",
    "\n",
    "# Filter and clean up station data\n",
    "stations = stations.filter((stations[\"latitude\"].isNotNull()) & (stations[\"longitude\"].isNotNull()))\n",
    "\n",
    "# define Cape Canaveral latitude and longitude\n",
    "lat_cc = lit(28.3922)\n",
    "lon_cc = lit(-80.6077)\n",
    "\n",
    "# Apply our udf to calculate distance\n",
    "stations = stations.withColumn(\"distance\", haversine(lat_cc, lon_cc, stations[\"latitude\"], stations[\"longitude\"]).cast(DoubleType()))\n",
    "\n",
    "# Filter and display stations within 100 km of Cape Canaveral\n",
    "joined = stations.filter(stations[\"distance\"] <= 100)\n",
    "print(\"All stations within 100 km of Cape Canaveral\")\n",
    "joined.show(20)\n",
    "\n",
    "# Full January data, with filtering (for later plotting)\n",
    "temperatures_jan = temperatures.filter((temperatures[\"temperature\"].isNotNull()) & (temperatures[\"month\"] == 1))\n",
    "jan_data = temperatures_jan.join(stations, ['station_id', 'wban_id'])\n",
    "jan_data = jan_data.filter(stations[\"distance\"] <= 100)\n",
    "\n",
    "# Filter temperatures to only show on January 28th\n",
    "temperatures_jan28 = temperatures.filter((temperatures[\"temperature\"].isNotNull()) & (temperatures[\"month\"] == 1) & (temperatures[\"day\"] == 28))\n",
    "\n",
    "# Join stations and temperatures data for the 28th\n",
    "joined = temperatures_jan28.join(stations, [\"station_id\", \"wban_id\"])\n",
    "\n",
    "# Compute distances from each station to Cape Canaveral\n",
    "joined = joined.withColumn(\"distance\", haversine(lat_cc, lon_cc, joined[\"latitude\"], joined[\"longitude\"]).cast(DoubleType()))\n",
    "\n",
    "# Filter for stations within 100 km of Cape Canaveral\n",
    "joined = joined.filter(joined[\"distance\"] <= 100)\n",
    "\n",
    "# Compute IDW temperature at Cape Canaveral on January 28, 1986\n",
    "idw_temp = joined.groupby().agg(idw(col(\"distance\"), col(\"temperature\")).alias(\"IDW_Temperature\")).collect()[0][\"IDW_Temperature\"]\n",
    "\n",
    "# Print prediction result\n",
    "print(\"The estimated temperature at Cape Canaveral on January 28, 1986, using inverse distance weighting, is {:.2f} degrees F.\".format(idw_temp))\n"
   ]
  },
  {
   "cell_type": "code",
   "execution_count": 5,
   "metadata": {},
   "outputs": [
    {
     "name": "stdout",
     "output_type": "stream",
     "text": [
      "+---+---------------------+\n",
      "|day|predicted_temperature|\n",
      "+---+---------------------+\n",
      "| 01|   60.553074829783775|\n",
      "| 02|   62.161090141498725|\n",
      "| 03|   59.991018579141816|\n",
      "| 04|   62.928795392191056|\n",
      "| 05|   58.586736696799896|\n",
      "| 06|   50.613326290784094|\n",
      "| 07|    59.33818407495788|\n",
      "| 08|    58.70189869488112|\n",
      "| 09|    60.68160121408436|\n",
      "| 10|   63.637129321668894|\n",
      "| 11|    57.28733919769086|\n",
      "| 12|    54.03409094341584|\n",
      "| 13|     53.0522588658258|\n",
      "| 14|   48.825090611113225|\n",
      "| 15|     50.3648848008176|\n",
      "| 16|    55.02849557321301|\n",
      "| 17|    61.56576179508835|\n",
      "| 18|    60.40573754335196|\n",
      "| 19|    62.16587500143822|\n",
      "| 20|    55.78812789955445|\n",
      "+---+---------------------+\n",
      "only showing top 20 rows\n",
      "\n"
     ]
    },
    {
     "ename": "TypeError",
     "evalue": "'JavaPackage' object is not callable",
     "output_type": "error",
     "traceback": [
      "\u001b[0;31m---------------------------------------------------------------------------\u001b[0m",
      "\u001b[0;31mTypeError\u001b[0m                                 Traceback (most recent call last)",
      "\u001b[0;32m/var/folders/5r/szqgfdcj48bcdlb2m0m9gysw0000gn/T/ipykernel_29312/136374935.py\u001b[0m in \u001b[0;36m<module>\u001b[0;34m\u001b[0m\n\u001b[1;32m      4\u001b[0m \u001b[0;34m\u001b[0m\u001b[0m\n\u001b[1;32m      5\u001b[0m \u001b[0;31m# Convert Spark DataFrame to RDD and collect data\u001b[0m\u001b[0;34m\u001b[0m\u001b[0;34m\u001b[0m\u001b[0;34m\u001b[0m\u001b[0m\n\u001b[0;32m----> 6\u001b[0;31m \u001b[0mdays\u001b[0m \u001b[0;34m=\u001b[0m \u001b[0mjan_data\u001b[0m\u001b[0;34m.\u001b[0m\u001b[0mselect\u001b[0m\u001b[0;34m(\u001b[0m\u001b[0;34m\"day\"\u001b[0m\u001b[0;34m)\u001b[0m\u001b[0;34m.\u001b[0m\u001b[0mrdd\u001b[0m\u001b[0;34m.\u001b[0m\u001b[0mflatMap\u001b[0m\u001b[0;34m(\u001b[0m\u001b[0;32mlambda\u001b[0m \u001b[0mx\u001b[0m\u001b[0;34m:\u001b[0m \u001b[0mx\u001b[0m\u001b[0;34m)\u001b[0m\u001b[0;34m.\u001b[0m\u001b[0mcollect\u001b[0m\u001b[0;34m(\u001b[0m\u001b[0;34m)\u001b[0m\u001b[0;34m\u001b[0m\u001b[0;34m\u001b[0m\u001b[0m\n\u001b[0m\u001b[1;32m      7\u001b[0m \u001b[0mtemps\u001b[0m \u001b[0;34m=\u001b[0m \u001b[0mjan_data\u001b[0m\u001b[0;34m.\u001b[0m\u001b[0mselect\u001b[0m\u001b[0;34m(\u001b[0m\u001b[0;34m\"predicted_temperature\"\u001b[0m\u001b[0;34m)\u001b[0m\u001b[0;34m.\u001b[0m\u001b[0mrdd\u001b[0m\u001b[0;34m.\u001b[0m\u001b[0mflatMap\u001b[0m\u001b[0;34m(\u001b[0m\u001b[0;32mlambda\u001b[0m \u001b[0mx\u001b[0m\u001b[0;34m:\u001b[0m \u001b[0mx\u001b[0m\u001b[0;34m)\u001b[0m\u001b[0;34m.\u001b[0m\u001b[0mcollect\u001b[0m\u001b[0;34m(\u001b[0m\u001b[0;34m)\u001b[0m\u001b[0;34m\u001b[0m\u001b[0;34m\u001b[0m\u001b[0m\n\u001b[1;32m      8\u001b[0m \u001b[0;34m\u001b[0m\u001b[0m\n",
      "\u001b[0;32m/Library/Frameworks/Python.framework/Versions/3.9/lib/python3.9/site-packages/pyspark/rdd.py\u001b[0m in \u001b[0;36mcollect\u001b[0;34m(self)\u001b[0m\n\u001b[1;32m   1812\u001b[0m         \u001b[0;32mwith\u001b[0m \u001b[0mSCCallSiteSync\u001b[0m\u001b[0;34m(\u001b[0m\u001b[0mself\u001b[0m\u001b[0;34m.\u001b[0m\u001b[0mcontext\u001b[0m\u001b[0;34m)\u001b[0m\u001b[0;34m:\u001b[0m\u001b[0;34m\u001b[0m\u001b[0;34m\u001b[0m\u001b[0m\n\u001b[1;32m   1813\u001b[0m             \u001b[0;32massert\u001b[0m \u001b[0mself\u001b[0m\u001b[0;34m.\u001b[0m\u001b[0mctx\u001b[0m\u001b[0;34m.\u001b[0m\u001b[0m_jvm\u001b[0m \u001b[0;32mis\u001b[0m \u001b[0;32mnot\u001b[0m \u001b[0;32mNone\u001b[0m\u001b[0;34m\u001b[0m\u001b[0;34m\u001b[0m\u001b[0m\n\u001b[0;32m-> 1814\u001b[0;31m             \u001b[0msock_info\u001b[0m \u001b[0;34m=\u001b[0m \u001b[0mself\u001b[0m\u001b[0;34m.\u001b[0m\u001b[0mctx\u001b[0m\u001b[0;34m.\u001b[0m\u001b[0m_jvm\u001b[0m\u001b[0;34m.\u001b[0m\u001b[0mPythonRDD\u001b[0m\u001b[0;34m.\u001b[0m\u001b[0mcollectAndServe\u001b[0m\u001b[0;34m(\u001b[0m\u001b[0mself\u001b[0m\u001b[0;34m.\u001b[0m\u001b[0m_jrdd\u001b[0m\u001b[0;34m.\u001b[0m\u001b[0mrdd\u001b[0m\u001b[0;34m(\u001b[0m\u001b[0;34m)\u001b[0m\u001b[0;34m)\u001b[0m\u001b[0;34m\u001b[0m\u001b[0;34m\u001b[0m\u001b[0m\n\u001b[0m\u001b[1;32m   1815\u001b[0m         \u001b[0;32mreturn\u001b[0m \u001b[0mlist\u001b[0m\u001b[0;34m(\u001b[0m\u001b[0m_load_from_socket\u001b[0m\u001b[0;34m(\u001b[0m\u001b[0msock_info\u001b[0m\u001b[0;34m,\u001b[0m \u001b[0mself\u001b[0m\u001b[0;34m.\u001b[0m\u001b[0m_jrdd_deserializer\u001b[0m\u001b[0;34m)\u001b[0m\u001b[0;34m)\u001b[0m\u001b[0;34m\u001b[0m\u001b[0;34m\u001b[0m\u001b[0m\n\u001b[1;32m   1816\u001b[0m \u001b[0;34m\u001b[0m\u001b[0m\n",
      "\u001b[0;32m/Library/Frameworks/Python.framework/Versions/3.9/lib/python3.9/site-packages/pyspark/rdd.py\u001b[0m in \u001b[0;36m_jrdd\u001b[0;34m(self)\u001b[0m\n\u001b[1;32m   5439\u001b[0m             \u001b[0mprofiler\u001b[0m \u001b[0;34m=\u001b[0m \u001b[0;32mNone\u001b[0m\u001b[0;34m\u001b[0m\u001b[0;34m\u001b[0m\u001b[0m\n\u001b[1;32m   5440\u001b[0m \u001b[0;34m\u001b[0m\u001b[0m\n\u001b[0;32m-> 5441\u001b[0;31m         wrapped_func = _wrap_function(\n\u001b[0m\u001b[1;32m   5442\u001b[0m             \u001b[0mself\u001b[0m\u001b[0;34m.\u001b[0m\u001b[0mctx\u001b[0m\u001b[0;34m,\u001b[0m \u001b[0mself\u001b[0m\u001b[0;34m.\u001b[0m\u001b[0mfunc\u001b[0m\u001b[0;34m,\u001b[0m \u001b[0mself\u001b[0m\u001b[0;34m.\u001b[0m\u001b[0m_prev_jrdd_deserializer\u001b[0m\u001b[0;34m,\u001b[0m \u001b[0mself\u001b[0m\u001b[0;34m.\u001b[0m\u001b[0m_jrdd_deserializer\u001b[0m\u001b[0;34m,\u001b[0m \u001b[0mprofiler\u001b[0m\u001b[0;34m\u001b[0m\u001b[0;34m\u001b[0m\u001b[0m\n\u001b[1;32m   5443\u001b[0m         )\n",
      "\u001b[0;32m/Library/Frameworks/Python.framework/Versions/3.9/lib/python3.9/site-packages/pyspark/rdd.py\u001b[0m in \u001b[0;36m_wrap_function\u001b[0;34m(sc, func, deserializer, serializer, profiler)\u001b[0m\n\u001b[1;32m   5241\u001b[0m     \u001b[0mpickled_command\u001b[0m\u001b[0;34m,\u001b[0m \u001b[0mbroadcast_vars\u001b[0m\u001b[0;34m,\u001b[0m \u001b[0menv\u001b[0m\u001b[0;34m,\u001b[0m \u001b[0mincludes\u001b[0m \u001b[0;34m=\u001b[0m \u001b[0m_prepare_for_python_RDD\u001b[0m\u001b[0;34m(\u001b[0m\u001b[0msc\u001b[0m\u001b[0;34m,\u001b[0m \u001b[0mcommand\u001b[0m\u001b[0;34m)\u001b[0m\u001b[0;34m\u001b[0m\u001b[0;34m\u001b[0m\u001b[0m\n\u001b[1;32m   5242\u001b[0m     \u001b[0;32massert\u001b[0m \u001b[0msc\u001b[0m\u001b[0;34m.\u001b[0m\u001b[0m_jvm\u001b[0m \u001b[0;32mis\u001b[0m \u001b[0;32mnot\u001b[0m \u001b[0;32mNone\u001b[0m\u001b[0;34m\u001b[0m\u001b[0;34m\u001b[0m\u001b[0m\n\u001b[0;32m-> 5243\u001b[0;31m     return sc._jvm.SimplePythonFunction(\n\u001b[0m\u001b[1;32m   5244\u001b[0m         \u001b[0mbytearray\u001b[0m\u001b[0;34m(\u001b[0m\u001b[0mpickled_command\u001b[0m\u001b[0;34m)\u001b[0m\u001b[0;34m,\u001b[0m\u001b[0;34m\u001b[0m\u001b[0;34m\u001b[0m\u001b[0m\n\u001b[1;32m   5245\u001b[0m         \u001b[0menv\u001b[0m\u001b[0;34m,\u001b[0m\u001b[0;34m\u001b[0m\u001b[0;34m\u001b[0m\u001b[0m\n",
      "\u001b[0;31mTypeError\u001b[0m: 'JavaPackage' object is not callable"
     ]
    }
   ],
   "source": [
    "# Group by day, use distance and temperature to extrapolate the temperature at Cape Canaveral\n",
    "jan_data = jan_data.groupBy(\"day\").agg(idw(col(\"distance\"), col(\"temperature\")).alias(\"predicted_temperature\")).orderBy('day')\n",
    "jan_data.show(20)\n",
    "\n",
    "# Convert Spark DataFrame to RDD and collect data\n",
    "days = jan_data.select(\"day\").rdd.flatMap(lambda x: x).collect()\n",
    "temps = jan_data.select(\"predicted_temperature\").rdd.flatMap(lambda x: x).collect()\n",
    "\n",
    "# Plot the temperatures for each day in January 1986\n",
    "plt.plot(days, temps)\n",
    "plt.title(\"Temperature in January 1986 at Cape Canaveral\")\n",
    "plt.xlabel(\"Day of the Month\")\n",
    "plt.ylabel(\"Temperature (F)\")\n",
    "plt.show()"
   ]
  },
  {
   "cell_type": "markdown",
   "metadata": {},
   "source": [
    "This plot clearly shows the dramatic drop in temperature at the end of the month (around the January 28th launch). If NASA would have waited a few days, they would have seen a spike in temperature back to the normal levels, and more than likely a successful launch."
   ]
  },
  {
   "cell_type": "markdown",
   "metadata": {},
   "source": []
  }
 ],
 "metadata": {
  "kernelspec": {
   "display_name": "Python 3 (ipykernel)",
   "language": "python",
   "name": "python3"
  },
  "language_info": {
   "codemirror_mode": {
    "name": "ipython",
    "version": 3
   },
   "file_extension": ".py",
   "mimetype": "text/x-python",
   "name": "python",
   "nbconvert_exporter": "python",
   "pygments_lexer": "ipython3",
   "version": "3.9.1"
  },
  "vscode": {
   "interpreter": {
    "hash": "aa8f07565f14ad3af7441b359de82a9336d0e71b02baac78f24423198eabf332"
   }
  }
 },
 "nbformat": 4,
 "nbformat_minor": 2
}
